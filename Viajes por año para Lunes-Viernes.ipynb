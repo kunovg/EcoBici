{
 "cells": [
  {
   "cell_type": "code",
   "execution_count": 2,
   "metadata": {
    "collapsed": true
   },
   "outputs": [],
   "source": [
    "import functions as f\n",
    "import datetime as dt"
   ]
  },
  {
   "cell_type": "code",
   "execution_count": 3,
   "metadata": {
    "collapsed": true
   },
   "outputs": [],
   "source": [
    "weekdays = [0,1,2,3,4]\n",
    "years = [2015, 2016]"
   ]
  },
  {
   "cell_type": "code",
   "execution_count": 4,
   "metadata": {},
   "outputs": [
    {
     "name": "stdout",
     "output_type": "stream",
     "text": [
      "Leyendo datos del año 2015\n",
      "Analizando datos del año 2015\n",
      "Leyendo datos del año 2016\n",
      "Analizando datos del año 2016\n",
      "Leyendo datos del año 2015\n",
      "Analizando datos del año 2015\n",
      "Leyendo datos del año 2016\n",
      "Analizando datos del año 2016\n",
      "Leyendo datos del año 2015\n",
      "Analizando datos del año 2015\n",
      "Leyendo datos del año 2016\n",
      "Analizando datos del año 2016\n",
      "Leyendo datos del año 2015\n",
      "Analizando datos del año 2015\n",
      "Leyendo datos del año 2016\n",
      "Analizando datos del año 2016\n",
      "Leyendo datos del año 2015\n",
      "Analizando datos del año 2015\n",
      "Leyendo datos del año 2016\n",
      "Analizando datos del año 2016\n"
     ]
    }
   ],
   "source": [
    "for wd in weekdays:\n",
    "    f.analyze_trips_by_moments(wd, 10, years)"
   ]
  },
  {
   "cell_type": "code",
   "execution_count": null,
   "metadata": {
    "collapsed": true
   },
   "outputs": [],
   "source": []
  }
 ],
 "metadata": {
  "kernelspec": {
   "display_name": "Python 3",
   "language": "python",
   "name": "python3"
  },
  "language_info": {
   "codemirror_mode": {
    "name": "ipython",
    "version": 3
   },
   "file_extension": ".py",
   "mimetype": "text/x-python",
   "name": "python",
   "nbconvert_exporter": "python",
   "pygments_lexer": "ipython3",
   "version": "3.5.2"
  }
 },
 "nbformat": 4,
 "nbformat_minor": 2
}
