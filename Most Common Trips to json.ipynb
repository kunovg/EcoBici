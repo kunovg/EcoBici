{
 "cells": [
  {
   "cell_type": "code",
   "execution_count": 1,
   "metadata": {
    "collapsed": true
   },
   "outputs": [],
   "source": [
    "import functions\n",
    "import json"
   ]
  },
  {
   "cell_type": "code",
   "execution_count": 5,
   "metadata": {},
   "outputs": [
    {
     "name": "stdout",
     "output_type": "stream",
     "text": [
      "Leyendo datos weekday: 5\taño: 2016\n"
     ]
    }
   ],
   "source": [
    "stations = functions.get_stations()\n",
    "trips = functions.most_common_trips(5, 2016)\n",
    "res = []\n",
    "for k,v in trips.iteritems():\n",
    "    s1 = stations[stations.id == int(k.split('-')[0])]\n",
    "    s2 = stations[stations.id == int(k.split('-')[1])]\n",
    "    # No se tienen datos de las estaciones 1001 y 1002\n",
    "    try:\n",
    "        f = {'weight': int(v/300) + 1, 'point1': s1.location.iloc[0].split(','), 'point2': s2.location.iloc[0].split(','), 'total': str(v)}\n",
    "        res.append(f)\n",
    "    except:\n",
    "        pass\n",
    "with open('data/common_trips_saturday.json', 'w') as file:\n",
    "    json.dump(res, file)"
   ]
  },
  {
   "cell_type": "code",
   "execution_count": null,
   "metadata": {
    "collapsed": true
   },
   "outputs": [],
   "source": []
  }
 ],
 "metadata": {
  "kernelspec": {
   "display_name": "Python 3",
   "language": "python",
   "name": "python3"
  },
  "language_info": {
   "codemirror_mode": {
    "name": "ipython",
    "version": 3
   },
   "file_extension": ".py",
   "mimetype": "text/x-python",
   "name": "python",
   "nbconvert_exporter": "python",
   "pygments_lexer": "ipython3",
   "version": "3.5.2"
  }
 },
 "nbformat": 4,
 "nbformat_minor": 2
}
