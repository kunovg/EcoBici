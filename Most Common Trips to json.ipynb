{
 "cells": [
  {
   "cell_type": "code",
   "execution_count": 1,
   "metadata": {
    "collapsed": true
   },
   "outputs": [],
   "source": [
    "import functions\n",
    "import json"
   ]
  },
  {
   "cell_type": "code",
   "execution_count": 5,
   "metadata": {},
   "outputs": [
    {
     "name": "stdout",
     "output_type": "stream",
     "text": [
      "Leyendo datos weekday: 5\taño: 2016\n"
     ]
    }
   ],
   "source": [
    "stations = functions.get_stations()\n",
    "trips = functions.most_common_trips(5, 2016)\n",
    "res = []\n",
    "for k,v in trips.iteritems():\n",
    "    s1 = stations[stations.id == int(k.split('-')[0])]\n",
    "    s2 = stations[stations.id == int(k.split('-')[1])]\n",
    "    # No se tienen datos de las estaciones 1001 y 1002\n",
    "    try:\n",
    "        f = {'weight': int(v/300) + 1, 'point1': s1.location.iloc[0].split(','), 'point2': s2.location.iloc[0].split(','), 'total': str(v)}\n",
    "        res.append(f)\n",
    "    except:\n",
    "        pass\n",
    "with open('data/common_trips_saturday.json', 'w') as file:\n",
    "    json.dump(res, file)"
   ]
  },
  {
   "cell_type": "code",
   "execution_count": null,
   "metadata": {},
   "outputs": [
    {
     "name": "stdout",
     "output_type": "stream",
     "text": [
      "Leyendo datos weekday: 1\taño: 2016\n"
     ]
    }
   ],
   "source": [
    "functions.most_common_trips(1, 2016)"
   ]
  },
  {
   "cell_type": "code",
   "execution_count": 2,
   "metadata": {},
   "outputs": [
    {
     "name": "stdout",
     "output_type": "stream",
     "text": [
      "Leyendo datos weekday: 1\taño: 2016\n"
     ]
    }
   ],
   "source": [
    "trips = functions.most_common_trips(1, 2016)"
   ]
  },
  {
   "cell_type": "code",
   "execution_count": 3,
   "metadata": {},
   "outputs": [
    {
     "data": {
      "text/plain": [
       "211-217    2321\n",
       "174-183    1631\n",
       "1-18       1536\n",
       "85-174     1244\n",
       "174-257    1216\n",
       "206-208    1204\n",
       "21-27      1158\n",
       "208-242    1136\n",
       "212-217    1134\n",
       "151-158    1129\n",
       "155-158    1067\n",
       "197-208    1003\n",
       "1-35        991\n",
       "208-209     975\n",
       "1-27        957\n",
       "197-219     886\n",
       "266-270     869\n",
       "209-210     856\n",
       "357-359     849\n",
       "141-158     845\n",
       "126-141     845\n",
       "108-113     835\n",
       "27-261      829\n",
       "18-271      828\n",
       "15-27       820\n",
       "1-34        815\n",
       "3-41        793\n",
       "111-174     786\n",
       "208-241     777\n",
       "23-27       770\n",
       "           ... \n",
       "54-362        1\n",
       "384-451       1\n",
       "82-443        1\n",
       "26-384        1\n",
       "8-386         1\n",
       "52-398        1\n",
       "21-289        1\n",
       "147-290       1\n",
       "48-306        1\n",
       "309-372       1\n",
       "148-245       1\n",
       "138-354       1\n",
       "240-331       1\n",
       "1-360         1\n",
       "74-370        1\n",
       "81-225        1\n",
       "282-409       1\n",
       "161-425       1\n",
       "100-213       1\n",
       "162-330       1\n",
       "319-375       1\n",
       "71-82         1\n",
       "236-411       1\n",
       "111-446       1\n",
       "281-347       1\n",
       "77-317        1\n",
       "62-204        1\n",
       "133-389       1\n",
       "204-285       1\n",
       "272-427       1\n",
       "Name: stations, Length: 72482, dtype: int64"
      ]
     },
     "execution_count": 3,
     "metadata": {},
     "output_type": "execute_result"
    }
   ],
   "source": [
    "trips"
   ]
  },
  {
   "cell_type": "code",
   "execution_count": null,
   "metadata": {
    "collapsed": true
   },
   "outputs": [],
   "source": []
  }
 ],
 "metadata": {
  "kernelspec": {
   "display_name": "Python 3",
   "language": "python",
   "name": "python3"
  },
  "language_info": {
   "codemirror_mode": {
    "name": "ipython",
    "version": 3
   },
   "file_extension": ".py",
   "mimetype": "text/x-python",
   "name": "python",
   "nbconvert_exporter": "python",
   "pygments_lexer": "ipython3",
   "version": "3.5.2"
  }
 },
 "nbformat": 4,
 "nbformat_minor": 2
}
